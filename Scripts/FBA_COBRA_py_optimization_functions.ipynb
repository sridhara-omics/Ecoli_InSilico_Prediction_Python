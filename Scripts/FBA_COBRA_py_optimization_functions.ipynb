{
 "cells": [
  {
   "cell_type": "code",
   "execution_count": 2,
   "metadata": {},
   "outputs": [],
   "source": [
    "from __future__ import print_function\n",
    "import cobra\n",
    "import os\n",
    "from os.path import join"
   ]
  },
  {
   "cell_type": "code",
   "execution_count": 3,
   "metadata": {},
   "outputs": [
    {
     "name": "stdout",
     "output_type": "stream",
     "text": [
      "Data\\iAF1260.xml.gz\n"
     ]
    }
   ],
   "source": [
    "sbml_path = join(\"Data\",\"iAF1260.xml.gz\")\n",
    "print(sbml_path)\n"
   ]
  },
  {
   "cell_type": "code",
   "execution_count": 4,
   "metadata": {
    "scrolled": true
   },
   "outputs": [],
   "source": [
    "iAF1260_ecoli_model = cobra.io.read_sbml_model(sbml_path)"
   ]
  },
  {
   "cell_type": "code",
   "execution_count": 5,
   "metadata": {},
   "outputs": [
    {
     "data": {
      "text/html": [
       "<strong><em>Optimal</em> solution with objective value 0.737</strong><br><div>\n",
       "<style scoped>\n",
       "    .dataframe tbody tr th:only-of-type {\n",
       "        vertical-align: middle;\n",
       "    }\n",
       "\n",
       "    .dataframe tbody tr th {\n",
       "        vertical-align: top;\n",
       "    }\n",
       "\n",
       "    .dataframe thead th {\n",
       "        text-align: right;\n",
       "    }\n",
       "</style>\n",
       "<table border=\"1\" class=\"dataframe\">\n",
       "  <thead>\n",
       "    <tr style=\"text-align: right;\">\n",
       "      <th></th>\n",
       "      <th>fluxes</th>\n",
       "      <th>reduced_costs</th>\n",
       "    </tr>\n",
       "  </thead>\n",
       "  <tbody>\n",
       "    <tr>\n",
       "      <th>12DGR120tipp</th>\n",
       "      <td>0.000000</td>\n",
       "      <td>-0.010031</td>\n",
       "    </tr>\n",
       "    <tr>\n",
       "      <th>12DGR140tipp</th>\n",
       "      <td>0.000000</td>\n",
       "      <td>-0.010031</td>\n",
       "    </tr>\n",
       "    <tr>\n",
       "      <th>12DGR141tipp</th>\n",
       "      <td>0.000000</td>\n",
       "      <td>-0.016049</td>\n",
       "    </tr>\n",
       "    <tr>\n",
       "      <th>12DGR160tipp</th>\n",
       "      <td>0.000000</td>\n",
       "      <td>-0.010031</td>\n",
       "    </tr>\n",
       "    <tr>\n",
       "      <th>12DGR161tipp</th>\n",
       "      <td>0.000000</td>\n",
       "      <td>-0.018055</td>\n",
       "    </tr>\n",
       "    <tr>\n",
       "      <th>...</th>\n",
       "      <td>...</td>\n",
       "      <td>...</td>\n",
       "    </tr>\n",
       "    <tr>\n",
       "      <th>ZN2abcpp</th>\n",
       "      <td>0.000000</td>\n",
       "      <td>-0.008025</td>\n",
       "    </tr>\n",
       "    <tr>\n",
       "      <th>ZN2t3pp</th>\n",
       "      <td>0.000000</td>\n",
       "      <td>-0.002006</td>\n",
       "    </tr>\n",
       "    <tr>\n",
       "      <th>ZN2tpp</th>\n",
       "      <td>0.002327</td>\n",
       "      <td>0.000000</td>\n",
       "    </tr>\n",
       "    <tr>\n",
       "      <th>ZNabcpp</th>\n",
       "      <td>0.000000</td>\n",
       "      <td>-0.008025</td>\n",
       "    </tr>\n",
       "    <tr>\n",
       "      <th>Zn2tex</th>\n",
       "      <td>0.002327</td>\n",
       "      <td>0.000000</td>\n",
       "    </tr>\n",
       "  </tbody>\n",
       "</table>\n",
       "<p>2382 rows × 2 columns</p>\n",
       "</div>"
      ],
      "text/plain": [
       "<Solution 0.737 at 0x29876d934e0>"
      ]
     },
     "execution_count": 5,
     "metadata": {},
     "output_type": "execute_result"
    }
   ],
   "source": [
    "# Here the objective function is biomass and optimize function calculates the fluxes to get the max biomass (this can be changed)\n",
    "iAF1260_ecoli_model.optimize()"
   ]
  },
  {
   "cell_type": "code",
   "execution_count": 6,
   "metadata": {},
   "outputs": [
    {
     "name": "stdout",
     "output_type": "stream",
     "text": [
      "IN FLUXES            OUT FLUXES    OBJECTIVES\n",
      "-------------------  ------------  ----------------------\n",
      "o2_e       16.3      h2o_e  37.2   BIOMASS_Ec_i...  0.737\n",
      "glc__D_e    8        co2_e  17.8\n",
      "nh4_e       7.94     h_e     6.77\n",
      "pi_e        0.708\n",
      "so4_e       0.184\n",
      "k_e         0.131\n",
      "mg2_e       0.00582\n",
      "fe2_e       0.00556\n",
      "fe3_e       0.00523\n",
      "ca2_e       0.00349\n",
      "cl_e        0.00349\n",
      "cobalt2_e   0.00233\n",
      "cu2_e       0.00233\n",
      "mn2_e       0.00233\n",
      "mobd_e      0.00233\n",
      "zn2_e       0.00233\n"
     ]
    }
   ],
   "source": [
    "iAF1260_ecoli_model.summary()"
   ]
  },
  {
   "cell_type": "code",
   "execution_count": 11,
   "metadata": {},
   "outputs": [],
   "source": [
    "# remove nitrogen source and look at Biomass objective function\n",
    "# here the only nitrogen source seems to be nh4_e.\n",
    "iAF1260_ecoli_model.reactions.NH4tex.knock_out()"
   ]
  },
  {
   "cell_type": "code",
   "execution_count": 12,
   "metadata": {},
   "outputs": [
    {
     "data": {
      "text/html": [
       "<strong><em>Optimal</em> solution with objective value 0.000</strong><br><div>\n",
       "<style scoped>\n",
       "    .dataframe tbody tr th:only-of-type {\n",
       "        vertical-align: middle;\n",
       "    }\n",
       "\n",
       "    .dataframe tbody tr th {\n",
       "        vertical-align: top;\n",
       "    }\n",
       "\n",
       "    .dataframe thead th {\n",
       "        text-align: right;\n",
       "    }\n",
       "</style>\n",
       "<table border=\"1\" class=\"dataframe\">\n",
       "  <thead>\n",
       "    <tr style=\"text-align: right;\">\n",
       "      <th></th>\n",
       "      <th>fluxes</th>\n",
       "      <th>reduced_costs</th>\n",
       "    </tr>\n",
       "  </thead>\n",
       "  <tbody>\n",
       "    <tr>\n",
       "      <th>12DGR120tipp</th>\n",
       "      <td>0.000000e+00</td>\n",
       "      <td>3.330669e-16</td>\n",
       "    </tr>\n",
       "    <tr>\n",
       "      <th>12DGR140tipp</th>\n",
       "      <td>0.000000e+00</td>\n",
       "      <td>3.330669e-16</td>\n",
       "    </tr>\n",
       "    <tr>\n",
       "      <th>12DGR141tipp</th>\n",
       "      <td>0.000000e+00</td>\n",
       "      <td>6.106227e-16</td>\n",
       "    </tr>\n",
       "    <tr>\n",
       "      <th>12DGR160tipp</th>\n",
       "      <td>0.000000e+00</td>\n",
       "      <td>3.330669e-16</td>\n",
       "    </tr>\n",
       "    <tr>\n",
       "      <th>12DGR161tipp</th>\n",
       "      <td>0.000000e+00</td>\n",
       "      <td>6.106227e-16</td>\n",
       "    </tr>\n",
       "    <tr>\n",
       "      <th>...</th>\n",
       "      <td>...</td>\n",
       "      <td>...</td>\n",
       "    </tr>\n",
       "    <tr>\n",
       "      <th>ZN2abcpp</th>\n",
       "      <td>0.000000e+00</td>\n",
       "      <td>2.220446e-16</td>\n",
       "    </tr>\n",
       "    <tr>\n",
       "      <th>ZN2t3pp</th>\n",
       "      <td>0.000000e+00</td>\n",
       "      <td>5.551115e-17</td>\n",
       "    </tr>\n",
       "    <tr>\n",
       "      <th>ZN2tpp</th>\n",
       "      <td>7.906134e-18</td>\n",
       "      <td>0.000000e+00</td>\n",
       "    </tr>\n",
       "    <tr>\n",
       "      <th>ZNabcpp</th>\n",
       "      <td>0.000000e+00</td>\n",
       "      <td>2.220446e-16</td>\n",
       "    </tr>\n",
       "    <tr>\n",
       "      <th>Zn2tex</th>\n",
       "      <td>7.906134e-18</td>\n",
       "      <td>0.000000e+00</td>\n",
       "    </tr>\n",
       "  </tbody>\n",
       "</table>\n",
       "<p>2382 rows × 2 columns</p>\n",
       "</div>"
      ],
      "text/plain": [
       "<Solution 0.000 at 0x2987acbb588>"
      ]
     },
     "execution_count": 12,
     "metadata": {},
     "output_type": "execute_result"
    }
   ],
   "source": [
    "iAF1260_ecoli_model.optimize()"
   ]
  },
  {
   "cell_type": "code",
   "execution_count": 13,
   "metadata": {},
   "outputs": [],
   "source": [
    "# get the original model \n",
    "iAF1260_ecoli_model = cobra.io.read_sbml_model(sbml_path)\n",
    "\n"
   ]
  },
  {
   "cell_type": "code",
   "execution_count": 18,
   "metadata": {},
   "outputs": [
    {
     "data": {
      "text/plain": [
       "{'EX_ca2_e': 999999.0,\n",
       " 'EX_cbl1_e': 0.01,\n",
       " 'EX_cl_e': 999999.0,\n",
       " 'EX_co2_e': 999999.0,\n",
       " 'EX_cobalt2_e': 999999.0,\n",
       " 'EX_cu2_e': 999999.0,\n",
       " 'EX_fe2_e': 999999.0,\n",
       " 'EX_fe3_e': 999999.0,\n",
       " 'EX_glc__D_e': 8.0,\n",
       " 'EX_h2o_e': 999999.0,\n",
       " 'EX_h_e': 999999.0,\n",
       " 'EX_k_e': 999999.0,\n",
       " 'EX_mg2_e': 999999.0,\n",
       " 'EX_mn2_e': 999999.0,\n",
       " 'EX_mobd_e': 999999.0,\n",
       " 'EX_na1_e': 999999.0,\n",
       " 'EX_nh4_e': 999999.0,\n",
       " 'EX_o2_e': 18.5,\n",
       " 'EX_pi_e': 999999.0,\n",
       " 'EX_so4_e': 999999.0,\n",
       " 'EX_tungs_e': 999999.0,\n",
       " 'EX_zn2_e': 999999.0}"
      ]
     },
     "execution_count": 18,
     "metadata": {},
     "output_type": "execute_result"
    }
   ],
   "source": [
    "# change glucose source fluxes to different values and see how it affects the objective function\n",
    "iAF1260_ecoli_model.medium"
   ]
  },
  {
   "cell_type": "code",
   "execution_count": 21,
   "metadata": {},
   "outputs": [],
   "source": [
    "# currently EX_glc__D_e is at 8, change it to 20 (Instead of knocking out NH4tex, this is another way of changing the source)\n",
    "# copy the mediums, change the values and put the medium back in the model (there might be simpler way)\n",
    "medium = iAF1260_ecoli_model.medium\n",
    "medium[\"EX_glc__D_e\"] = 20\n",
    "iAF1260_ecoli_model.medium = medium"
   ]
  },
  {
   "cell_type": "code",
   "execution_count": 22,
   "metadata": {},
   "outputs": [
    {
     "data": {
      "text/html": [
       "<strong><em>Optimal</em> solution with objective value 1.218</strong><br><div>\n",
       "<style scoped>\n",
       "    .dataframe tbody tr th:only-of-type {\n",
       "        vertical-align: middle;\n",
       "    }\n",
       "\n",
       "    .dataframe tbody tr th {\n",
       "        vertical-align: top;\n",
       "    }\n",
       "\n",
       "    .dataframe thead th {\n",
       "        text-align: right;\n",
       "    }\n",
       "</style>\n",
       "<table border=\"1\" class=\"dataframe\">\n",
       "  <thead>\n",
       "    <tr style=\"text-align: right;\">\n",
       "      <th></th>\n",
       "      <th>fluxes</th>\n",
       "      <th>reduced_costs</th>\n",
       "    </tr>\n",
       "  </thead>\n",
       "  <tbody>\n",
       "    <tr>\n",
       "      <th>12DGR120tipp</th>\n",
       "      <td>0.000000</td>\n",
       "      <td>-0.024236</td>\n",
       "    </tr>\n",
       "    <tr>\n",
       "      <th>12DGR140tipp</th>\n",
       "      <td>0.000000</td>\n",
       "      <td>-0.024236</td>\n",
       "    </tr>\n",
       "    <tr>\n",
       "      <th>12DGR141tipp</th>\n",
       "      <td>0.000000</td>\n",
       "      <td>-0.043625</td>\n",
       "    </tr>\n",
       "    <tr>\n",
       "      <th>12DGR160tipp</th>\n",
       "      <td>0.000000</td>\n",
       "      <td>-0.024236</td>\n",
       "    </tr>\n",
       "    <tr>\n",
       "      <th>12DGR161tipp</th>\n",
       "      <td>0.000000</td>\n",
       "      <td>-0.043625</td>\n",
       "    </tr>\n",
       "    <tr>\n",
       "      <th>...</th>\n",
       "      <td>...</td>\n",
       "      <td>...</td>\n",
       "    </tr>\n",
       "    <tr>\n",
       "      <th>ZN2abcpp</th>\n",
       "      <td>0.000000</td>\n",
       "      <td>-0.019389</td>\n",
       "    </tr>\n",
       "    <tr>\n",
       "      <th>ZN2t3pp</th>\n",
       "      <td>0.000000</td>\n",
       "      <td>-0.004847</td>\n",
       "    </tr>\n",
       "    <tr>\n",
       "      <th>ZN2tpp</th>\n",
       "      <td>0.003846</td>\n",
       "      <td>0.000000</td>\n",
       "    </tr>\n",
       "    <tr>\n",
       "      <th>ZNabcpp</th>\n",
       "      <td>0.000000</td>\n",
       "      <td>-0.019389</td>\n",
       "    </tr>\n",
       "    <tr>\n",
       "      <th>Zn2tex</th>\n",
       "      <td>0.003846</td>\n",
       "      <td>0.000000</td>\n",
       "    </tr>\n",
       "  </tbody>\n",
       "</table>\n",
       "<p>2382 rows × 2 columns</p>\n",
       "</div>"
      ],
      "text/plain": [
       "<Solution 1.218 at 0x298785d6dd8>"
      ]
     },
     "execution_count": 22,
     "metadata": {},
     "output_type": "execute_result"
    }
   ],
   "source": [
    "iAF1260_ecoli_model.optimize()"
   ]
  },
  {
   "cell_type": "code",
   "execution_count": 23,
   "metadata": {},
   "outputs": [
    {
     "name": "stdout",
     "output_type": "stream",
     "text": [
      "IN FLUXES            OUT FLUXES           OBJECTIVES\n",
      "-------------------  -------------------  ---------------------\n",
      "glc__D_e   20        h_e       53         BIOMASS_Ec_i...  1.22\n",
      "o2_e       18.5      h2o_e     41.6\n",
      "nh4_e      13.1      for_e     23.1\n",
      "pi_e        1.17     ac_e      18.7\n",
      "so4_e       0.305    co2_e      9.53\n",
      "k_e         0.216    glyclt_e   0.000815\n",
      "mg2_e       0.00961\n",
      "fe2_e       0.0092\n",
      "fe3_e       0.00865\n",
      "ca2_e       0.00577\n",
      "cl_e        0.00577\n",
      "cobalt2_e   0.00385\n",
      "cu2_e       0.00385\n",
      "mn2_e       0.00385\n",
      "mobd_e      0.00385\n",
      "zn2_e       0.00385\n"
     ]
    }
   ],
   "source": [
    "iAF1260_ecoli_model.summary()"
   ]
  },
  {
   "cell_type": "code",
   "execution_count": 24,
   "metadata": {},
   "outputs": [],
   "source": [
    "# Repeat the above by changing it to -20 (see the negative sign)\n",
    "medium[\"EX_glc__D_e\"] = -20\n",
    "iAF1260_ecoli_model.medium = medium"
   ]
  },
  {
   "cell_type": "code",
   "execution_count": 25,
   "metadata": {},
   "outputs": [
    {
     "name": "stderr",
     "output_type": "stream",
     "text": [
      "cobra\\util\\solver.py:416 UserWarning: solver status is 'infeasible'\n"
     ]
    },
    {
     "data": {
      "text/html": [
       "<strong><em>infeasible</em> solution</strong>"
      ],
      "text/plain": [
       "<Solution infeasible at 0x29878824c88>"
      ]
     },
     "execution_count": 25,
     "metadata": {},
     "output_type": "execute_result"
    }
   ],
   "source": [
    "iAF1260_ecoli_model.optimize()"
   ]
  },
  {
   "cell_type": "code",
   "execution_count": 26,
   "metadata": {},
   "outputs": [],
   "source": [
    "# Back to original value of 8\n",
    "medium[\"EX_glc__D_e\"] = 8\n",
    "iAF1260_ecoli_model.medium = medium"
   ]
  },
  {
   "cell_type": "code",
   "execution_count": 27,
   "metadata": {},
   "outputs": [
    {
     "data": {
      "text/html": [
       "<strong><em>Optimal</em> solution with objective value 0.737</strong><br><div>\n",
       "<style scoped>\n",
       "    .dataframe tbody tr th:only-of-type {\n",
       "        vertical-align: middle;\n",
       "    }\n",
       "\n",
       "    .dataframe tbody tr th {\n",
       "        vertical-align: top;\n",
       "    }\n",
       "\n",
       "    .dataframe thead th {\n",
       "        text-align: right;\n",
       "    }\n",
       "</style>\n",
       "<table border=\"1\" class=\"dataframe\">\n",
       "  <thead>\n",
       "    <tr style=\"text-align: right;\">\n",
       "      <th></th>\n",
       "      <th>fluxes</th>\n",
       "      <th>reduced_costs</th>\n",
       "    </tr>\n",
       "  </thead>\n",
       "  <tbody>\n",
       "    <tr>\n",
       "      <th>12DGR120tipp</th>\n",
       "      <td>0.000000</td>\n",
       "      <td>-0.010031</td>\n",
       "    </tr>\n",
       "    <tr>\n",
       "      <th>12DGR140tipp</th>\n",
       "      <td>0.000000</td>\n",
       "      <td>-0.010031</td>\n",
       "    </tr>\n",
       "    <tr>\n",
       "      <th>12DGR141tipp</th>\n",
       "      <td>0.000000</td>\n",
       "      <td>-0.018055</td>\n",
       "    </tr>\n",
       "    <tr>\n",
       "      <th>12DGR160tipp</th>\n",
       "      <td>0.000000</td>\n",
       "      <td>-0.010031</td>\n",
       "    </tr>\n",
       "    <tr>\n",
       "      <th>12DGR161tipp</th>\n",
       "      <td>0.000000</td>\n",
       "      <td>-0.018055</td>\n",
       "    </tr>\n",
       "    <tr>\n",
       "      <th>...</th>\n",
       "      <td>...</td>\n",
       "      <td>...</td>\n",
       "    </tr>\n",
       "    <tr>\n",
       "      <th>ZN2abcpp</th>\n",
       "      <td>0.000000</td>\n",
       "      <td>-0.008025</td>\n",
       "    </tr>\n",
       "    <tr>\n",
       "      <th>ZN2t3pp</th>\n",
       "      <td>0.000000</td>\n",
       "      <td>-0.002006</td>\n",
       "    </tr>\n",
       "    <tr>\n",
       "      <th>ZN2tpp</th>\n",
       "      <td>0.002327</td>\n",
       "      <td>0.000000</td>\n",
       "    </tr>\n",
       "    <tr>\n",
       "      <th>ZNabcpp</th>\n",
       "      <td>0.000000</td>\n",
       "      <td>-0.008025</td>\n",
       "    </tr>\n",
       "    <tr>\n",
       "      <th>Zn2tex</th>\n",
       "      <td>0.002327</td>\n",
       "      <td>0.000000</td>\n",
       "    </tr>\n",
       "  </tbody>\n",
       "</table>\n",
       "<p>2382 rows × 2 columns</p>\n",
       "</div>"
      ],
      "text/plain": [
       "<Solution 0.737 at 0x298788245c0>"
      ]
     },
     "execution_count": 27,
     "metadata": {},
     "output_type": "execute_result"
    }
   ],
   "source": [
    "iAF1260_ecoli_model.optimize()"
   ]
  },
  {
   "cell_type": "code",
   "execution_count": 28,
   "metadata": {},
   "outputs": [
    {
     "name": "stdout",
     "output_type": "stream",
     "text": [
      "PRODUCING REACTIONS -- ATP C10H12N5O13P3 (atp_c)\n",
      "------------------------------------------------\n",
      "%      FLUX  RXN ID      REACTION\n",
      "---  ------  ----------  --------------------------------------------------\n",
      "72%  52      ATPS4rpp    adp_c + 4.0 h_p + pi_c <=> atp_c + h2o_c + 3.0 h_c\n",
      "18%  13.1    PGK         3pg_c + atp_c <=> 13dpg_c + adp_c\n",
      "5%    3.34   SUCOAS      atp_c + coa_c + succ_c <=> adp_c + pi_c + succoa_c\n",
      "4%    2.72   PPK         atp_c + pi_c <=> adp_c + ppi_c\n",
      "1%    1.03   PYK         adp_c + h_c + pep_c --> atp_c + pyr_c\n",
      "\n",
      "CONSUMING REACTIONS -- ATP C10H12N5O13P3 (atp_c)\n",
      "------------------------------------------------\n",
      "%      FLUX  RXN ID      REACTION\n",
      "---  ------  ----------  --------------------------------------------------\n",
      "61%  44.2    BIOMASS...  0.000223 10fthf_c + 0.000223 2ohph_c + 0.5137 a...\n",
      "12%   8.39   ATPM        atp_c + h2o_c --> adp_c + h_c + pi_c\n",
      "9%    6.19   PFK         atp_c + f6p_c --> adp_c + fdp_c + h_c\n",
      "3%    1.99   NDPK1       atp_c + gdp_c <=> adp_c + gtp_c\n",
      "2%    1.78   ACCOAC      accoa_c + atp_c + hco3_c --> adp_c + h_c + malc...\n",
      "2%    1.33   GLNS        atp_c + glu__L_c + nh4_c --> adp_c + gln__L_c +...\n",
      "1%    0.788  ASPK        asp__L_c + atp_c <=> 4pasp_c + adp_c\n",
      "1%    0.687  R15BPK      atp_c + r15bp_c --> adp_c + prpp_c\n",
      "1%    0.687  R1PK        atp_c + r1p_c --> adp_c + h_c + r15bp_c\n"
     ]
    }
   ],
   "source": [
    "# Get a sense of energy production and related features\n",
    "iAF1260_ecoli_model.metabolites.atp_c.summary()\n"
   ]
  },
  {
   "cell_type": "code",
   "execution_count": 34,
   "metadata": {},
   "outputs": [
    {
     "data": {
      "text/plain": [
       "8.39"
      ]
     },
     "execution_count": 34,
     "metadata": {},
     "output_type": "execute_result"
    }
   ],
   "source": [
    "# Instead of maximizing biomass, we can change the objective function to maximize ATPM\n",
    "iAF1260_ecoli_model.objective = \"ATPM\"\n",
    "iAF1260_ecoli_model.reactions.get_by_id(\"ATPM\").upper_bound\n",
    "\n"
   ]
  },
  {
   "cell_type": "code",
   "execution_count": 35,
   "metadata": {},
   "outputs": [
    {
     "data": {
      "text/plain": [
       "8.39"
      ]
     },
     "execution_count": 35,
     "metadata": {},
     "output_type": "execute_result"
    }
   ],
   "source": [
    "iAF1260_ecoli_model.reactions.get_by_id(\"ATPM\").lower_bound"
   ]
  },
  {
   "cell_type": "code",
   "execution_count": 36,
   "metadata": {},
   "outputs": [],
   "source": [
    "# Looks like the ATPM upper bound and lower bound is fixed at 8.39.\n",
    "# If we run the model now, the optimum calculated will be same.\n",
    "# INSTEAD, change the upper and lower bounds to different values and see the optimum with objective function of ATPM\n",
    "\n",
    "iAF1260_ecoli_model.reactions.get_by_id(\"ATPM\").upper_bound = 1000\n",
    "iAF1260_ecoli_model.reactions.get_by_id(\"ATPM\").lower_bound = -1000"
   ]
  },
  {
   "cell_type": "code",
   "execution_count": 37,
   "metadata": {},
   "outputs": [
    {
     "data": {
      "text/plain": [
       "1000"
      ]
     },
     "execution_count": 37,
     "metadata": {},
     "output_type": "execute_result"
    }
   ],
   "source": [
    "iAF1260_ecoli_model.reactions.get_by_id(\"ATPM\").upper_bound"
   ]
  },
  {
   "cell_type": "code",
   "execution_count": 38,
   "metadata": {},
   "outputs": [
    {
     "data": {
      "text/plain": [
       "-1000"
      ]
     },
     "execution_count": 38,
     "metadata": {},
     "output_type": "execute_result"
    }
   ],
   "source": [
    "iAF1260_ecoli_model.reactions.get_by_id(\"ATPM\").lower_bound"
   ]
  },
  {
   "cell_type": "code",
   "execution_count": 39,
   "metadata": {},
   "outputs": [
    {
     "data": {
      "text/html": [
       "<strong><em>Optimal</em> solution with objective value 95.813</strong><br><div>\n",
       "<style scoped>\n",
       "    .dataframe tbody tr th:only-of-type {\n",
       "        vertical-align: middle;\n",
       "    }\n",
       "\n",
       "    .dataframe tbody tr th {\n",
       "        vertical-align: top;\n",
       "    }\n",
       "\n",
       "    .dataframe thead th {\n",
       "        text-align: right;\n",
       "    }\n",
       "</style>\n",
       "<table border=\"1\" class=\"dataframe\">\n",
       "  <thead>\n",
       "    <tr style=\"text-align: right;\">\n",
       "      <th></th>\n",
       "      <th>fluxes</th>\n",
       "      <th>reduced_costs</th>\n",
       "    </tr>\n",
       "  </thead>\n",
       "  <tbody>\n",
       "    <tr>\n",
       "      <th>12DGR120tipp</th>\n",
       "      <td>0.0</td>\n",
       "      <td>-2.5</td>\n",
       "    </tr>\n",
       "    <tr>\n",
       "      <th>12DGR140tipp</th>\n",
       "      <td>0.0</td>\n",
       "      <td>-2.5</td>\n",
       "    </tr>\n",
       "    <tr>\n",
       "      <th>12DGR141tipp</th>\n",
       "      <td>0.0</td>\n",
       "      <td>-4.5</td>\n",
       "    </tr>\n",
       "    <tr>\n",
       "      <th>12DGR160tipp</th>\n",
       "      <td>0.0</td>\n",
       "      <td>-2.5</td>\n",
       "    </tr>\n",
       "    <tr>\n",
       "      <th>12DGR161tipp</th>\n",
       "      <td>0.0</td>\n",
       "      <td>-4.5</td>\n",
       "    </tr>\n",
       "    <tr>\n",
       "      <th>...</th>\n",
       "      <td>...</td>\n",
       "      <td>...</td>\n",
       "    </tr>\n",
       "    <tr>\n",
       "      <th>ZN2abcpp</th>\n",
       "      <td>0.0</td>\n",
       "      <td>-2.0</td>\n",
       "    </tr>\n",
       "    <tr>\n",
       "      <th>ZN2t3pp</th>\n",
       "      <td>0.0</td>\n",
       "      <td>-0.5</td>\n",
       "    </tr>\n",
       "    <tr>\n",
       "      <th>ZN2tpp</th>\n",
       "      <td>0.0</td>\n",
       "      <td>0.0</td>\n",
       "    </tr>\n",
       "    <tr>\n",
       "      <th>ZNabcpp</th>\n",
       "      <td>0.0</td>\n",
       "      <td>-2.0</td>\n",
       "    </tr>\n",
       "    <tr>\n",
       "      <th>Zn2tex</th>\n",
       "      <td>0.0</td>\n",
       "      <td>0.0</td>\n",
       "    </tr>\n",
       "  </tbody>\n",
       "</table>\n",
       "<p>2382 rows × 2 columns</p>\n",
       "</div>"
      ],
      "text/plain": [
       "<Solution 95.813 at 0x29878aaafd0>"
      ]
     },
     "execution_count": 39,
     "metadata": {},
     "output_type": "execute_result"
    }
   ],
   "source": [
    "iAF1260_ecoli_model.optimize()"
   ]
  },
  {
   "cell_type": "code",
   "execution_count": 40,
   "metadata": {},
   "outputs": [
    {
     "name": "stdout",
     "output_type": "stream",
     "text": [
      "PRODUCING REACTIONS -- ATP C10H12N5O13P3 (atp_c)\n",
      "------------------------------------------------\n",
      "%      FLUX  RXN ID    REACTION\n",
      "---  ------  --------  --------------------------------------------------\n",
      "61%   63.8   ATPS4rpp  adp_c + 4.0 h_p + pi_c <=> atp_c + h2o_c + 3.0 h_c\n",
      "15%   16     PGK       3pg_c + atp_c <=> 13dpg_c + adp_c\n",
      "14%   14.8   ACKr      ac_c + atp_c <=> actp_c + adp_c\n",
      "8%     8     PYK       adp_c + h_c + pep_c --> atp_c + pyr_c\n",
      "1%     1.25  SUCOAS    atp_c + coa_c + succ_c <=> adp_c + pi_c + succoa_c\n",
      "\n",
      "CONSUMING REACTIONS -- ATP C10H12N5O13P3 (atp_c)\n",
      "------------------------------------------------\n",
      "%      FLUX  RXN ID    REACTION\n",
      "---  ------  --------  --------------------------------------------------\n",
      "92%   95.8   ATPM      atp_c + h2o_c <=> adp_c + h_c + pi_c\n",
      "8%     8     PFK       atp_c + f6p_c --> adp_c + fdp_c + h_c\n"
     ]
    }
   ],
   "source": [
    "# Looks like the ATPM value went from 9 all the way to 95 (based on constraints on other reactions)\n",
    "# Summary of atp reactions with this new objective function is\n",
    "iAF1260_ecoli_model.metabolites.atp_c.summary()"
   ]
  },
  {
   "cell_type": "code",
   "execution_count": null,
   "metadata": {},
   "outputs": [],
   "source": []
  }
 ],
 "metadata": {
  "kernelspec": {
   "display_name": "Python 3",
   "language": "python",
   "name": "python3"
  },
  "language_info": {
   "codemirror_mode": {
    "name": "ipython",
    "version": 3
   },
   "file_extension": ".py",
   "mimetype": "text/x-python",
   "name": "python",
   "nbconvert_exporter": "python",
   "pygments_lexer": "ipython3",
   "version": "3.7.2"
  }
 },
 "nbformat": 4,
 "nbformat_minor": 2
}
